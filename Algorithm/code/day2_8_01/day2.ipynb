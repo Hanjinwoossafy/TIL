{
 "cells": [
  {
   "cell_type": "markdown",
   "metadata": {},
   "source": [
    "#### 카운팅정렬\n",
    "- 집합에 각 항목이 몇 개씩 있는지 세는 작업을 하여, 선형 시간에 정렬하는 효율적인 알고리즘\n",
    "- 제한사항\n",
    "  - 정수나 정수로 표현할 수 있는 지료에 대해서만 적용 가능\n",
    "  - 정수항목으로 인덱스 되는 카운트드르이 배열을 사용하기 때문\n",
    "  - 카운트들을 위한 충분한 공간을 할당하려면 가장 큰 정수를 알아야 한다.\n",
    "- 시간 복잡도\n",
    "  - O(n + k) : n은 리스트길이, k는 정수의 최대값"
   ]
  },
  {
   "cell_type": "markdown",
   "metadata": {},
   "source": [
    "#### 정렬과정\n",
    "- [0, 4, 1, 3, 1, 2, 4, 1]카운팅 과정\n",
    "- 1단계\n",
    "  - 데이터에서 각 항목들의 발생 횟수를 세고 정수 항목들로 직접 인덱스 되는 카운트 배열 counts에 저장\n",
    "- 정렬된 집합에서 각 항목의 앞에 위치할 항목의 개수를 반영하기 위해 counts의 원소를 조정"
   ]
  },
  {
   "cell_type": "code",
   "execution_count": null,
   "metadata": {},
   "outputs": [],
   "source": [
    "numbers = [63, 31, 27, 11, 25]\n",
    "def bubble(arr):\n",
    "    for i in range(len(arr)):\n",
    "        for j in range(len(arr) -i -1):\n",
    "            if arr[j] > arr[j+1]:\n",
    "                arr[j], arr[j+1] = arr[j+1], arr[j]\n",
    "\n",
    "\n",
    "bubble(numbers)\n",
    "print(numbers)"
   ]
  },
  {
   "cell_type": "code",
   "execution_count": null,
   "metadata": {},
   "outputs": [],
   "source": []
  }
 ],
 "metadata": {
  "kernelspec": {
   "display_name": "Python 3",
   "language": "python",
   "name": "python3"
  },
  "language_info": {
   "codemirror_mode": {
    "name": "ipython",
    "version": 3
   },
   "file_extension": ".py",
   "mimetype": "text/x-python",
   "name": "python",
   "nbconvert_exporter": "python",
   "pygments_lexer": "ipython3",
   "version": "3.9.13"
  },
  "orig_nbformat": 4
 },
 "nbformat": 4,
 "nbformat_minor": 2
}
