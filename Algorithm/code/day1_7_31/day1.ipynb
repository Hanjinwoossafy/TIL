{
 "cells": [
  {
   "cell_type": "markdown",
   "metadata": {},
   "source": [
    "###### swea course 이용\n",
    "#### 배열 1(Array 1)\n",
    "- 알고리즘\n",
    "- 배열\n",
    "- 버블 정렬(Bubble Sort)\n",
    "- 카운팅 정렬(Counting Sort)\n",
    "- 완전검색\n",
    "- 그리디(Greedy Algorithm)"
   ]
  },
  {
   "cell_type": "markdown",
   "metadata": {},
   "source": [
    "#### 무엇이 좋은 알고리즘인가\n",
    "1. 정확성\n",
    "2. 작업량\n",
    "3. 메모리 사용량\n",
    "4. 단순성\n",
    "5. 최적성"
   ]
  },
  {
   "cell_type": "markdown",
   "metadata": {},
   "source": [
    "#### 시간복잡도 - 빅-오(O) 표기법\n",
    "- 빅-오 표기법\n",
    "- 시간 복잡도 함수 중에서 가장 큰 영향력을 주는 n의 항만을 표시\n",
    "- 계수는 생략\n",
    "  "
   ]
  },
  {
   "cell_type": "markdown",
   "metadata": {},
   "source": [
    "#### 대표적인 정렬 방식의 종류\n",
    "- 버블 정렬\n",
    "- 카운팅 정렬\n",
    "- 선택 정렬\n",
    "- 퀵 정렬\n",
    "- 삽입 정렬\n",
    "- 병합 정렬\n"
   ]
  },
  {
   "cell_type": "markdown",
   "metadata": {},
   "source": [
    "#### 버블 정렬\n",
    "- 인접한 두개의 원소를 비교하며 자리를 계속 교환하는 방식\n",
    "- 정렬 과정\n",
    "  - 첫 번쨰 원소부터 인접한 원소끼리 계속 자리를 교환, 맨 마지막 자리까지 이동\n",
    "  - 한 단계가 끝나면 가자 큰 원소가 마지막 자리로(오름차순)\n",
    "- 시간복잡도\n",
    "  - O(n^2)"
   ]
  },
  {
   "cell_type": "markdown",
   "metadata": {},
   "source": [
    "#### 카운팅 정렬\n",
    "- 항목들의 순서를 결정하기 위해 집합에 각 항목이 몇 개씩 있는지 세는 작업, 선형 시간에 정렬하는 효율적인 알고리즘\n",
    "- 제한사항\n",
    "  - 정수나 정수로 표현할 수 있는 자료에 대해서만 적용 가능: 각 항목의 발생 회수를 기록하기 위해, 정수 항목으로 인덱스 되는 카운트들의 배열을 사용하기 때문\n",
    "  - 카운트들을 위한 충분한 공간을 할당하려면 집합 내의 가장 큰 정수를 알아야함\n",
    "- 시간 복잡도\n",
    "  - O(n+k) : n은 리스트 길이, k는 정수의 최대값\n",
    "\n",
    "#### 카운팅 정렬 과정\n",
    "- [0]"
   ]
  }
 ],
 "metadata": {
  "kernelspec": {
   "display_name": "Python 3",
   "language": "python",
   "name": "python3"
  },
  "language_info": {
   "codemirror_mode": {
    "name": "ipython",
    "version": 3
   },
   "file_extension": ".py",
   "mimetype": "text/x-python",
   "name": "python",
   "nbconvert_exporter": "python",
   "pygments_lexer": "ipython3",
   "version": "3.9.13"
  },
  "orig_nbformat": 4
 },
 "nbformat": 4,
 "nbformat_minor": 2
}
