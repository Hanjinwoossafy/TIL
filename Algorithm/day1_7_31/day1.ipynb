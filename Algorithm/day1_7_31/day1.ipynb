{
 "cells": [
  {
   "cell_type": "markdown",
   "metadata": {},
   "source": [
    "###### swea course 이용\n",
    "#### 배열 1(Array 1)\n",
    "- 알고리즘\n",
    "- 배열\n",
    "- 버블 정렬(Bubble Sort)\n",
    "- 카운팅 정렬(Counting Sort)\n",
    "- 완전검색\n",
    "- 그리디(Greedy Algorithm)"
   ]
  },
  {
   "cell_type": "markdown",
   "metadata": {},
   "source": [
    "#### 무엇이 좋은 알고리즘인가\n",
    "1. 정확성\n",
    "2. 작업량\n",
    "3. 메모리 사용량\n",
    "4. 단순성\n",
    "5. 최적성"
   ]
  },
  {
   "cell_type": "markdown",
   "metadata": {},
   "source": [
    "#### 시간복잡도 - 빅-오(O) 표기법\n",
    "- 빅-오 표기법\n",
    "- 시간 복잡도 함수 중에서 가장 큰 영향력을 주는 n의 항만을 표시\n",
    "- 계수는 생략\n",
    "  "
   ]
  },
  {
   "cell_type": "code",
   "execution_count": 2,
   "metadata": {},
   "outputs": [
    {
     "name": "stdout",
     "output_type": "stream",
     "text": [
      "[0, 0, 0, 0, 0, 0, 0, 0, 0, 0]\n"
     ]
    }
   ],
   "source": []
  }
 ],
 "metadata": {
  "kernelspec": {
   "display_name": "Python 3",
   "language": "python",
   "name": "python3"
  },
  "language_info": {
   "codemirror_mode": {
    "name": "ipython",
    "version": 3
   },
   "file_extension": ".py",
   "mimetype": "text/x-python",
   "name": "python",
   "nbconvert_exporter": "python",
   "pygments_lexer": "ipython3",
   "version": "3.9.13"
  },
  "orig_nbformat": 4
 },
 "nbformat": 4,
 "nbformat_minor": 2
}
