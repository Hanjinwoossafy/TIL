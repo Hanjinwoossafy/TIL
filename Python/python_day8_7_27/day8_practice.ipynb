{
 "cells": [
  {
   "cell_type": "code",
   "execution_count": 41,
   "metadata": {},
   "outputs": [
    {
     "name": "stdout",
     "output_type": "stream",
     "text": [
      "Model : Sonata, Color : white\n",
      "speedchange : 50\n",
      "CarDrive\n"
     ]
    }
   ],
   "source": [
    "class Car:\n",
    "    def __init__(self, model, color):\n",
    "        self.model = model\n",
    "        self.color = color\n",
    "    \n",
    "    def info(self):\n",
    "        print(f'Model : {self.model}, Color : {self.color}')\n",
    "    def aaa(self):\n",
    "        print('Car')\n",
    "\n",
    "class CarDrive(Car):\n",
    "    def __init__(self, model, color, speed):\n",
    "        # Car.__init__(self, model, color)\n",
    "        # self.model = model\n",
    "        # self.color = color\n",
    "        # self.speed = speed\n",
    "        super().__init__(model, color)\n",
    "        self.speed = speed\n",
    "        # self.speed = int(speed) if speed else 50 \n",
    "        try:\n",
    "            self.speed = int(speed)  # 입력된 속도값을 숫자로 변환\n",
    "        except ValueError:\n",
    "            self.speed = 50 \n",
    "    ##입력을 받으면 기본인자가 작동이 안된다.\n",
    "    ##기본 인자를 쓰고싶으면 if else를 통해 반환\n",
    "    def aaa(self):\n",
    "        print('CarDrive')\n",
    "    \n",
    "    def speedchange(self):\n",
    "        print(f'speedchange : {self.speed}')\n",
    "\n",
    "model1 = (input('차종을 입력: '))\n",
    "color1 = (input('색깔을 입력: '))\n",
    "speed1 = (input('속도를 입력: '))\n",
    "car1 = CarDrive(model1, color1, speed1)\n",
    "\n",
    "#1. info메서드 호출\n",
    "car1.info()\n",
    "#2. speedchange 메서드 호출\n",
    "car1.speedchange()\n",
    "car1.aaa()"
   ]
  },
  {
   "cell_type": "code",
   "execution_count": 22,
   "metadata": {},
   "outputs": [
    {
     "name": "stdout",
     "output_type": "stream",
     "text": [
      "uuu\n"
     ]
    }
   ],
   "source": []
  }
 ],
 "metadata": {
  "kernelspec": {
   "display_name": "Python 3",
   "language": "python",
   "name": "python3"
  },
  "language_info": {
   "codemirror_mode": {
    "name": "ipython",
    "version": 3
   },
   "file_extension": ".py",
   "mimetype": "text/x-python",
   "name": "python",
   "nbconvert_exporter": "python",
   "pygments_lexer": "ipython3",
   "version": "3.9.13"
  },
  "orig_nbformat": 4
 },
 "nbformat": 4,
 "nbformat_minor": 2
}
