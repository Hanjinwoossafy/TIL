{
 "cells": [
  {
   "cell_type": "markdown",
   "metadata": {},
   "source": [
    "#### 상속(Inheritance)\n",
    "기존 클래스의 속성과 메서드를 물려받아 새로운 하위 클래스를 생성하는 것\n",
    "\n",
    "#### 상속이 필요한 이유\n",
    "1. 코드 재사용\n",
    "    - 상속을 통해 기존 클래스의 속성과 메서드를 재사용 가능\n",
    "    - 새로운 클래스를 작성할 때 기존 클래스의 기능을 그대로 활용 가능, 중복된 코드를 줄일 수 있음\n",
    "2. 계층 구조\n",
    "    - 상속을 통해 클래스들 간의 계층구조 형성 가능\n",
    "    - 부모 클래스와 자식 클래스간의 관계를 표현, 더 구체적인 클래스 생성 가능\n",
    "3. 유지 보수의 용이성\n",
    "   - 상속을 통해 기존 클래스의 수정이 필요한 경우, 해당 클래스만 수정하면 되므로 유지보수 용이\n",
    "   - 코드의 일관성 유지, 수정이 필요한 범위를 최소화"
   ]
  },
  {
   "cell_type": "code",
   "execution_count": 15,
   "metadata": {},
   "outputs": [
    {
     "name": "stdout",
     "output_type": "stream",
     "text": [
      "반갑습니다. 김학생입니다.\n",
      "반갑습니다. 박교수입니다.\n"
     ]
    }
   ],
   "source": [
    "# 상속 없이 구현하는 경우의 한계점\n",
    "# 정해진 변수에 대해서만 표현 가능, 학생과 교수 각각의 특성에 대해 표현이 힘듦\n",
    "class Person:\n",
    "    def __init__(self, name, age):\n",
    "        self.name = name\n",
    "        self.age = age\n",
    "    \n",
    "    def talk(self):\n",
    "        print(f'반갑습니다. {self.name}입니다.')\n",
    "\n",
    "s1 = Person('김학생', 23)\n",
    "s1.talk()\n",
    "\n",
    "p1 = Person('박교수', 59)\n",
    "p1.talk()"
   ]
  },
  {
   "cell_type": "code",
   "execution_count": 16,
   "metadata": {},
   "outputs": [],
   "source": [
    "# 메서드 중복 정의\n",
    "class Professor:\n",
    "    def __init__(self, name, age, department):\n",
    "        self.name = name\n",
    "        self.age = age\n",
    "        self.department = department\n",
    "    \n",
    "    def talk(self):#중복\n",
    "        print(f'반갑습니다. {self.name}입니다.')\n",
    "\n",
    "class Student:\n",
    "    def __init__(self, name, age, gpa):\n",
    "        self.name = name\n",
    "        self.age = age\n",
    "        self.gpa = gpa\n",
    "    \n",
    "    def talk(self):#중복\n",
    "        print(f'반갑습니다. {self.name}입니다.')\n",
    "# 메서드가 중복 정의 되므로 같이 사용할 메서드를 통일 하는 과정 필요"
   ]
  },
  {
   "cell_type": "code",
   "execution_count": 17,
   "metadata": {},
   "outputs": [
    {
     "name": "stdout",
     "output_type": "stream",
     "text": [
      "반갑습니다. 박교수입니다.\n",
      "반갑습니다. 김학생입니다.\n"
     ]
    }
   ],
   "source": [
    "# 상속을 사용한 계층구조 변경\n",
    "class Person:\n",
    "    def __init__(self, name, age):\n",
    "        self.name = name\n",
    "        self.age = age\n",
    "    \n",
    "    def talk(self): #메서드 재사용\n",
    "        print(f'반갑습니다. {self.name}입니다.')\n",
    "\n",
    "class Professor(Person):\n",
    "    def __init__(self, name, age, department):\n",
    "        self.name = name\n",
    "        self.age = age\n",
    "        self.department = department\n",
    "\n",
    "class Student(Person):\n",
    "    def __init__(self, name, age, gpa):\n",
    "        self.name = name\n",
    "        self.age = age\n",
    "        self.gpa = gpa\n",
    "\n",
    "p1 = Professor('박교수', 49, '컴퓨터공학과')\n",
    "s1 = Student('김학생', 20, 3.5)\n",
    "\n",
    "#부모 Person클래스의 talk메서드를 활용\n",
    "p1.talk() #반갑습니다. 박교수입니다.\n",
    "#부모 Person클래스의 talk메서드를 활용\n",
    "s1.talk() #반갑습니다. 김학생입니다."
   ]
  },
  {
   "cell_type": "code",
   "execution_count": 18,
   "metadata": {},
   "outputs": [
    {
     "name": "stdout",
     "output_type": "stream",
     "text": [
      "반갑습니다. 박교수입니다.\n",
      "반갑습니다. 김학생입니다.\n"
     ]
    }
   ],
   "source": [
    "#super(): 부모 클래스의 메스드를 호출하기 위해 사용되는 내장 함수\n",
    "#사용시 변화\n",
    "\n",
    "class Person:\n",
    "    def __init__(self, name, age):\n",
    "        self.name = name\n",
    "        self.age = age\n",
    "    \n",
    "    def talk(self): #메서드 재사용\n",
    "        print(f'반갑습니다. {self.name}입니다.')\n",
    "\n",
    "class Professor(Person):\n",
    "    def __init__(self, name, age, department):\n",
    "        super().__init__(name, age) ##변수를 반복해서 선언 안 해도 된다.\n",
    "        self.department = department\n",
    "##만약 두개이상의 부모 클래스가 있다면 자동으로 --->방향으로 참조\n",
    "\n",
    "#ex) class Professor(Person, aaa, aaaa, aa):\n",
    "    #                -----------> 순서대로 \n",
    "    # def __init__(self, name, age, department):\n",
    "    #     super().__init__(name, age) \n",
    "    #     self.department = department\n",
    "\n",
    "class Student(Person):\n",
    "    def __init__(self, name, age, gpa):\n",
    "        Person.__init__(self, name, age) ##super()를 안쓰면 self가 들어가야함\n",
    "                                         #부모 클래스의 변수들이 많아지면 유용\n",
    "        self.gpa = gpa\n",
    "\n",
    "p1 = Professor('박교수', 49, '컴퓨터공학과')\n",
    "s1 = Student('김학생', 20, 3.5)\n",
    "\n",
    "#부모 Person클래스의 talk메서드를 활용\n",
    "p1.talk() #반갑습니다. 박교수입니다.\n",
    "#부모 Person클래스의 talk메서드를 활용\n",
    "s1.talk() #반갑습니다. 김학생입니다."
   ]
  },
  {
   "cell_type": "markdown",
   "metadata": {},
   "source": [
    "#### 다중 상속\n",
    "- 두 개 이상의 클래스를 상속 받는 경우\n",
    "- 상속받은 모든 클래스의 요소를 활용 가능\n",
    "- 중복된 속성이나 메서드가 있는 경우 **상속순서에 의해 결정**"
   ]
  },
  {
   "cell_type": "code",
   "execution_count": 20,
   "metadata": {},
   "outputs": [
    {
     "name": "stdout",
     "output_type": "stream",
     "text": [
      "첫째가 응애\n",
      "첫째가 수영\n",
      "아빠가 걷기\n",
      "안녕, 아가\n",
      "XY\n",
      "XX\n",
      "[<class '__main__.FirstChild'>, <class '__main__.Dad'>, <class '__main__.Mom'>, <class '__main__.Person'>, <class 'object'>]\n"
     ]
    }
   ],
   "source": [
    "class Person:\n",
    "    def __init__(self, name):\n",
    "        self.name = name\n",
    "    \n",
    "    def greeting(self):\n",
    "        return f'안녕, {self.name}'\n",
    "    \n",
    "    \n",
    "class Mom(Person):\n",
    "    gene = 'XX'\n",
    "\n",
    "    def swim(self):\n",
    "        return '엄마가 수영'\n",
    "    \n",
    "class Dad(Person):\n",
    "    gene = 'XY'\n",
    "\n",
    "    def walk(self):\n",
    "        return '아빠가 걷기'\n",
    "    \n",
    "class FirstChild(Dad, Mom):\n",
    "    ##gene을 가져오면 순서에 따라 가져오므로\n",
    "    mom_gene = Mom.gene\n",
    "    #꼭 써야겠다면 따로 선언해주어야한다.\n",
    "    \n",
    "    def swim(self):  ##오버라이딩 : 부모 클라스의 메스드를 자식 클래스에서 재정의 하는것\n",
    "        return '첫째가 수영'\n",
    "    def cry(self):\n",
    "        return '첫째가 응애'\n",
    "    \n",
    "baby1 = FirstChild('아가')\n",
    "print(baby1.cry()) #첫째가 응애\n",
    "print(baby1.swim()) #첫째가 수영\n",
    "print(baby1.walk()) #아빠가 걷기\n",
    "print(baby1.greeting()) #안녕, 아가\n",
    "print(baby1.gene) #XY /엄빠 둘다 gene를 가지고 있지만 순서대로 Dad에서 먼저 가져오기 때문에 XY\n",
    "print(baby1.mom_gene)\n",
    "print(FirstChild.mro())\n",
    "#상속 관련 함수와 메서드"
   ]
  },
  {
   "cell_type": "markdown",
   "metadata": {},
   "source": [
    "#### 상속 관련 함수와 메서드\n",
    "- mro()\n",
    "  - Method Resolution Order(메서드 해결(탐색) 순서)\n",
    "  - 해당 인스턴스의 클래스가 어떤 부모 클래스를 가지는지 확인하는 메서드\n",
    "  - 기존의 인스턴스 -> 클래스 순으로 이름 공간을 탐색하는 과정에서 상속 관계에 있으면 인스턴스 -> 자식클래스 -> 부모클래스로 확장"
   ]
  },
  {
   "cell_type": "markdown",
   "metadata": {},
   "source": [
    "###"
   ]
  },
  {
   "cell_type": "markdown",
   "metadata": {},
   "source": [
    "#### 에러\n",
    "#### 문법에러(Syntax Error)\n",
    "- 프로그램의 구문이 올바르지 않은 경우 발생(오타, 괄호 및 콜론 누락 등의 문법적 오류)\n",
    "- Invalid syntax(문법 오류)\n",
    "- assign to literal(잘못된 할당)\n",
    "- EOL (End of Line)\n",
    "- EOF (End of file)\n",
    "\n",
    "\n",
    "#### 예외(Exception)\n",
    "- 프로그램 실행 중에 감지되는 에러\n",
    "- 내장 예외\n",
    "  - ZeroDivisionError : \n",
    "    - 나누기 또는 모듈의 연산의 두번째 인자가 0일때 발생\n",
    "  - NameError \n",
    "    - 지역 또는 전역 이름을 찾을 수 없을 때 발생\n",
    "  - TypeError\n",
    "    - 타입 불일치\n",
    "    - 인자 누락\n",
    "    - 인자 초과\n",
    "    - 인자 타입 불일치\n",
    "  - ValueError\n",
    "    - 연산이나 함수에 문제는 없지만 부적절한 값을 가진 인자를 받았고, 상황이 IndexError처럼 더 구체적인 예외로 설명되지 않는 경우\n",
    "  - IndexError\n",
    "    - 시퀀스 인덱스가 범위를 벗어날때 발생\n",
    "  - KeyError\n",
    "    - 딕셔너리에 해당 키가 존재하지 않는 경우\n",
    "  - ModuleNotFoundError\n",
    "    - 모듈을 찾을 수 없을 때 발생\n",
    "  - ImportError\n",
    "    - 임포트 하려는 이름을 찾을 수 없을 때 발생\n",
    "  - KeyboardInterrupt\n",
    "    - 사용자가 Ctl-c 또는 Delete를 누를 때 발생\n",
    "      - 무한루프 시 강제 종료\n",
    "  - IndentationError\n",
    "    - 잘못된 들여쓰기와 관련된 문법 오류"
   ]
  },
  {
   "cell_type": "markdown",
   "metadata": {},
   "source": [
    "#### 예외 처리\n",
    "#### Try 와 except\n",
    "파이썬에서는 **try** 문과 **except** 절을 사용하여 예외 처리\n",
    "- try 블록 안에는 예외가 발생할 수 있는 코드를 작성\n",
    "- except 블록 안에는 예외가 발생했을 때 처리할 코드를 작성\n",
    "- 예외가 발생하면 프로그램 흐름을 try 블록을 빠져나와 해당 예외에 대응하는 except블록으로 이동"
   ]
  },
  {
   "cell_type": "code",
   "execution_count": 2,
   "metadata": {},
   "outputs": [
    {
     "name": "stdout",
     "output_type": "stream",
     "text": [
      "0으로 못 나눔\n",
      "숫자가 아님\n"
     ]
    }
   ],
   "source": [
    "# 예외처리 방식\n",
    "try:\n",
    "    result = 10 / 0\n",
    "except ZeroDivisionError:\n",
    "    print('0으로 못 나눔')\n",
    "\n",
    "try:\n",
    "    num = int(input('숫자입력: '))\n",
    "except ValueError:\n",
    "    print('숫자가 아님')"
   ]
  },
  {
   "cell_type": "code",
   "execution_count": 1,
   "metadata": {},
   "outputs": [
    {
     "name": "stdout",
     "output_type": "stream",
     "text": [
      "에러 발생\n",
      "숫자를 넣으시오\n",
      "숫자를 넣으시오\n"
     ]
    }
   ],
   "source": [
    "#복수 예외 처리 \n",
    "try:\n",
    "    num= int(input('100을 나눌 값을 입력: '))\n",
    "    print(100 / num)\n",
    "    # if num == 999:\n",
    "    #     break\n",
    "# except (ValueError, ZeroDivisionError):\n",
    "#     print('제대로 입력하시오')\n",
    "except ValueError:\n",
    "    print('숫자를 넣으시오')\n",
    "except ZeroDivisionError:\n",
    "    print('0은 불가')\n",
    "except :\n",
    "    print('에러 발생')\n"
   ]
  },
  {
   "cell_type": "code",
   "execution_count": null,
   "metadata": {},
   "outputs": [],
   "source": [
    "# 내장 예외의 상속 계층구조 주의\n",
    "try:\n",
    "    num= int(input('100을 나눌 값을 입력: '))\n",
    "    print(100 / num)\n",
    "# except (ValueError, ZeroDivisionError):\n",
    "#     print('제대로 입력하시오')\n",
    "except BaseException:\n",
    "    print('숫자를 넣으시오')\n",
    "except ZeroDivisionError: ##BaseException의 하위계층이라 들어가지 않음 \n",
    "    print('0은 불가')     ## 하위 클래스를 먼저 확인 할 수 있도록 작성\n",
    "except :\n",
    "    print('에러 발생')"
   ]
  },
  {
   "cell_type": "markdown",
   "metadata": {},
   "source": [
    "#### try-except 구문과 if구문의 차이\n",
    "#### 접근 방식\n",
    "- EAFP\n",
    "  - Easier to Ask for Forgiveness than Permission\n",
    "  - 예외처리를 중심으로 코드를 작성하는 접근 방식(try-except)\n",
    "- LBYL\n",
    "  - Look Before You Leap\n",
    "  - 값 검사를 중심으로 코드를 작성하는 접근 방식(if-else)\n"
   ]
  },
  {
   "cell_type": "code",
   "execution_count": 4,
   "metadata": {},
   "outputs": [
    {
     "name": "stdout",
     "output_type": "stream",
     "text": [
      "33\n",
      "33\n"
     ]
    }
   ],
   "source": [
    "# Try\n",
    "my_dict = {'key' : 33, 'www': 334}\n",
    "try:\n",
    "    result = my_dict['key']\n",
    "    print(result)\n",
    "except KeyError:\n",
    "    print('key 존재 x')\n",
    "\n",
    "if 'key' in my_dict:\n",
    "    result = my_dict['key']\n",
    "    print(result)\n",
    "else:\n",
    "    print('key 존재 x')"
   ]
  },
  {
   "cell_type": "markdown",
   "metadata": {},
   "source": [
    "#### 접근 방식 비교\n",
    "| EAFP | LBYL|\n",
    "|:------: |:----------: |\n",
    "|'일단 실행하고 예외를 처리 | '실행하기전에 조건을 검사' |\n",
    "|코드를 실행하고 예외를 발생하면 예외처리 수행| 코드 실행 전에 조건문 등을 사용하여 예외 상황을 미리 검사, 예외상황을 피하는 방식 |\n",
    "|코드에서 예외가 발생할 수 있는 부분 예측하여 대비X , 예외가 발생한 후에 예외처리 |코드가 좀 더 예측 가능한 동작, but 코드가 더 길고 복잡 |\n",
    "|예외상황을 예측하기 어려운 경우 유용 | 예외 상황을 미리 방지하고 싶을때 유용|"
   ]
  }
 ],
 "metadata": {
  "kernelspec": {
   "display_name": "Python 3",
   "language": "python",
   "name": "python3"
  },
  "language_info": {
   "codemirror_mode": {
    "name": "ipython",
    "version": 3
   },
   "file_extension": ".py",
   "mimetype": "text/x-python",
   "name": "python",
   "nbconvert_exporter": "python",
   "pygments_lexer": "ipython3",
   "version": "3.9.13"
  },
  "orig_nbformat": 4
 },
 "nbformat": 4,
 "nbformat_minor": 2
}
