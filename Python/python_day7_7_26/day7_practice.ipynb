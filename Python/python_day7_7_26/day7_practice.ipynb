{
 "cells": [
  {
   "cell_type": "code",
   "execution_count": null,
   "metadata": {},
   "outputs": [],
   "source": [
    "# 메서드를 하나의 객체로 묶어 관리하는 프로그래밍 패러다임\n",
    "num = [10, 20]\n",
    "print(sum(num))\n"
   ]
  },
  {
   "cell_type": "code",
   "execution_count": 2,
   "metadata": {},
   "outputs": [
    {
     "name": "stdout",
     "output_type": "stream",
     "text": [
      "kai\n"
     ]
    }
   ],
   "source": [
    "class Person:\n",
    "    name = 'kai' #클래스 변수 == 멤버 변수\n",
    "\n",
    "#실습1. 클래스 변수에 접근하여 'kai'를 출력해 보세요\n",
    "\n",
    "#1. 인스턴스 생성(인스턴스 = 클래스 명())\n",
    "kai = Person()\n",
    "#2. 클래스 변수 호출(인스턴스.클래스변수)\n",
    "print(kai.name)"
   ]
  },
  {
   "cell_type": "code",
   "execution_count": 4,
   "metadata": {},
   "outputs": [
    {
     "name": "stdout",
     "output_type": "stream",
     "text": [
      "welcome\n"
     ]
    }
   ],
   "source": [
    "#실습 2\n",
    "class Person:\n",
    "    def say(self):\n",
    "        print('welcome')\n",
    "my_say = Person()\n",
    "my_say.say()"
   ]
  },
  {
   "cell_type": "code",
   "execution_count": 7,
   "metadata": {},
   "outputs": [
    {
     "name": "stdout",
     "output_type": "stream",
     "text": [
      "Welcome su\n"
     ]
    }
   ],
   "source": [
    "#실습 3\n",
    "class Person:\n",
    "    def __init__(self, name):\n",
    "        self.name = name\n",
    "    \n",
    "    def say(self):\n",
    "        print(f'Welcome {self.name}')\n",
    "\n",
    "my = Person('su')\n",
    "my.say()"
   ]
  },
  {
   "cell_type": "code",
   "execution_count": 8,
   "metadata": {},
   "outputs": [
    {
     "name": "stdout",
     "output_type": "stream",
     "text": [
      "Sonata\n",
      "white\n",
      "speed: 100\n"
     ]
    }
   ],
   "source": [
    "#실습 1. Sonata 출력, white 출력, speed : 80 출력\n",
    "class Car:\n",
    "    model = \"Sonata\"\n",
    "    color = 'white'\n",
    "\n",
    "    def speedchange(self, v):\n",
    "        print(f'speed: {v}')\n",
    "        self.speed = v\n",
    "\n",
    "hyundai = Car()\n",
    "print(hyundai.model)\n",
    "print(hyundai.color)\n",
    "hyundai.speedchange(100)"
   ]
  },
  {
   "cell_type": "code",
   "execution_count": 15,
   "metadata": {},
   "outputs": [
    {
     "name": "stdout",
     "output_type": "stream",
     "text": [
      "model : Sonata, color : white, speed : 90\n"
     ]
    }
   ],
   "source": [
    "#2. 생성자.메서드 구조로 바꾸기\n",
    "# model : Sonata, color : white , speed:80\n",
    "class Car:\n",
    "   \n",
    "    \n",
    "    def __init__(self, model, color, speed):\n",
    "        self.model = model\n",
    "        self.color = color\n",
    "        self.speed = speed\n",
    "    \n",
    "    def info(self):\n",
    "        print(f'model : {self.model}, color : {self.color}, speed : {self.speed}')\n",
    "\n",
    "hyundai = Car('Sonata', 'white', 90)\n",
    "hyundai.info()"
   ]
  },
  {
   "cell_type": "code",
   "execution_count": 21,
   "metadata": {},
   "outputs": [
    {
     "name": "stdout",
     "output_type": "stream",
     "text": [
      "rap을 잘하고 가수이며, 생일은 1993년 5월 16일이며, 국적은 대한민국입니다\n",
      "춤을 잘 추고 가수이며, 생일은 1993년 5월 16일이며, 국적은 대한민국입니다\n",
      "소몰이 창법을 쓰며 가수이고, 생일은 1993년 5월 16일이며, 국적은 대한민국입니다\n"
     ]
    }
   ],
   "source": [
    "class Singer:\n",
    "   \n",
    "    \n",
    "    def __init__(self, job, birth, country):\n",
    "        self.job = job\n",
    "        self.birth = birth\n",
    "        self.country = country\n",
    "    \n",
    "    def rap(self):\n",
    "        print(f'rap을 잘하고 {self.job}이며, 생일은 {self.birth}이며, 국적은 {self.country}입니다')\n",
    "    \n",
    "    def dance(self):\n",
    "        print(f'춤을 잘 추고 {self.job}이며, 생일은 {self.birth}이며, 국적은 {self.country}입니다')\n",
    "    \n",
    "    def So_song(self):\n",
    "        print(f'소몰이 창법을 쓰며 {self.job}이고, 생일은 {self.birth}이며, 국적은 {self.country}입니다')\n",
    "\n",
    "\n",
    "IU = Singer('가수', '1993년 5월 16일', '대한민국')\n",
    "IU.rap()\n",
    "IU.dance()\n",
    "IU.So_song()"
   ]
  },
  {
   "cell_type": "code",
   "execution_count": 20,
   "metadata": {},
   "outputs": [
    {
     "name": "stdout",
     "output_type": "stream",
     "text": [
      "직업 : 가수\n",
      "생년월일 : 1993년 5월 16일\n",
      "국적 : 대한민국\n",
      "랩\n",
      "댄스\n",
      "소몰이 창법\n"
     ]
    }
   ],
   "source": [
    "class Singer:\n",
    "    def __init__(self):\n",
    "        self.job = '가수'\n",
    "        self.birth = '1993년 5월 16일'\n",
    "        self.country = '대한민국'\n",
    "    \n",
    "    def rap(self):\n",
    "        print('랩')\n",
    "    def dance(self):\n",
    "        print('댄스')\n",
    "    def sing(self):\n",
    "        print('소몰이 창법')\n",
    "singer = Singer()\n",
    "print(f'직업 : {singer.job}')\n",
    "print(f'생년월일 : {singer.birth}')\n",
    "print(f'국적 : {singer.country}')\n",
    "singer.rap()\n",
    "singer.dance()\n",
    "singer.sing()\n"
   ]
  },
  {
   "cell_type": "code",
   "execution_count": 7,
   "metadata": {},
   "outputs": [
    {
     "name": "stdout",
     "output_type": "stream",
     "text": [
      "인구수 2\n"
     ]
    }
   ],
   "source": [
    "class Person():\n",
    "    count = 0 # 클래스 변수\n",
    "    def __init__(self, name):\n",
    "        self.name = name\n",
    "        Person.count  += 1\n",
    "\n",
    "    @classmethod\n",
    "    def number_count(cls):\n",
    "        print(f'인구수 {Person.count}')\n",
    "\n",
    "Person1 = Person('a')\n",
    "Person2 = Person('b')\n",
    "Person.number_count()"
   ]
  },
  {
   "cell_type": "code",
   "execution_count": 14,
   "metadata": {},
   "outputs": [
    {
     "name": "stdout",
     "output_type": "stream",
     "text": [
      "직업 : 가수\n",
      "생년월일 : 1993년 5월 16일\n",
      "국적 : 대한민국\n",
      "랩\n",
      "댄스\n",
      "소몰이 창법\n"
     ]
    }
   ],
   "source": [
    "class Singer:\n",
    "    \n",
    "    job = '가수'\n",
    "    birth = '1993년 5월 16일'\n",
    "    country = '대한민국'\n",
    "\n",
    "    @classmethod\n",
    "    def rap(self):\n",
    "        print('랩')\n",
    "    @classmethod\n",
    "    def dance(self):\n",
    "        print('댄스')\n",
    "    @classmethod    \n",
    "    def sing(self):\n",
    "        print('소몰이 창법')\n",
    "\n",
    "\n",
    "singer = Singer()\n",
    "print(f'직업 : {singer.job}')\n",
    "print(f'생년월일 : {singer.birth}')\n",
    "print(f'국적 : {singer.country}')\n",
    "Singer.rap()\n",
    "Singer.dance()\n",
    "Singer.sing()"
   ]
  },
  {
   "cell_type": "code",
   "execution_count": 17,
   "metadata": {},
   "outputs": [
    {
     "name": "stdout",
     "output_type": "stream",
     "text": [
      "직업 : 가수\n",
      "생년월일 : 1993년 5월 16일\n",
      "국적 : 대한민국\n",
      "랩\n",
      "댄스\n",
      "소몰이 창법\n"
     ]
    }
   ],
   "source": [
    "class Singer:\n",
    "    \n",
    "    job = '가수'\n",
    "    birth = '1993년 5월 16일'\n",
    "    country = '대한민국'\n",
    "\n",
    "    @staticmethod\n",
    "    def rap():\n",
    "        print('랩')\n",
    "    @staticmethod\n",
    "    def dance():\n",
    "        print('댄스')\n",
    "    @staticmethod   \n",
    "    def sing():\n",
    "        print('소몰이 창법')\n",
    "\n",
    "\n",
    "singer = Singer()\n",
    "print(f'직업 : {singer.job}')\n",
    "print(f'생년월일 : {singer.birth}')\n",
    "print(f'국적 : {singer.country}')\n",
    "Singer.rap()\n",
    "Singer.dance()\n",
    "Singer.sing()"
   ]
  },
  {
   "cell_type": "code",
   "execution_count": 23,
   "metadata": {},
   "outputs": [
    {
     "name": "stdout",
     "output_type": "stream",
     "text": [
      "[원] radius 10 [원] radius 2\n",
      "314.0 12.56\n"
     ]
    }
   ],
   "source": [
    "##매직 메서드\n",
    "class Circle:\n",
    "    def __init__(self, r):\n",
    "        self.r = r\n",
    "    \n",
    "    def area(self):\n",
    "        return 3.14 * self.r * self.r\n",
    "    \n",
    "    def __str__(self):\n",
    "        return f'[원] radius {self.r}'\n",
    "\n",
    "c1 = Circle(10)\n",
    "c2 = Circle(2)\n",
    "print(c1, c2)\n",
    "c3 = c1.area()\n",
    "c4 = c2.area()\n",
    "print(c3, c4)"
   ]
  },
  {
   "cell_type": "code",
   "execution_count": 27,
   "metadata": {},
   "outputs": [
    {
     "name": "stdout",
     "output_type": "stream",
     "text": [
      "함수 실행 전\n",
      "원본 함수 실행\n",
      "함수 실행 후\n"
     ]
    }
   ],
   "source": [
    "## 데코레이터 : 다른함수의 코드를 유지한 채로 수정하거나 확정하기 위해 사용되는 함수\n",
    "def my_decorator(func):\n",
    "    def wrapper():\n",
    "        print('함수 실행 전')\n",
    "\n",
    "        result = func()\n",
    "\n",
    "        print('함수 실행 후')\n",
    "        return result\n",
    "    return wrapper\n",
    "@my_decorator\n",
    "def my_function():\n",
    "    print('원본 함수 실행')\n",
    "\n",
    "my_function()"
   ]
  },
  {
   "cell_type": "code",
   "execution_count": null,
   "metadata": {},
   "outputs": [],
   "source": []
  }
 ],
 "metadata": {
  "kernelspec": {
   "display_name": "Python 3",
   "language": "python",
   "name": "python3"
  },
  "language_info": {
   "codemirror_mode": {
    "name": "ipython",
    "version": 3
   },
   "file_extension": ".py",
   "mimetype": "text/x-python",
   "name": "python",
   "nbconvert_exporter": "python",
   "pygments_lexer": "ipython3",
   "version": "3.9.13"
  },
  "orig_nbformat": 4
 },
 "nbformat": 4,
 "nbformat_minor": 2
}
