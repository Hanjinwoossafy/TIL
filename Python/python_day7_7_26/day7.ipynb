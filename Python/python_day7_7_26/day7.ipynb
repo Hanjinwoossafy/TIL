{
 "cells": [
  {
   "cell_type": "markdown",
   "metadata": {},
   "source": [
    "#### 절차 지향 프로그래밍\n",
    "프로그램을 '데이터'와 '절차'로 구성하는 방식의 프로그래밍 패러다임\n",
    "#### 특징\n",
    "- '데이터'와 해당 데이터를 처리하는 '함수(절차)'가 분리되어 있으며, 함수 호출의 흐름이 중요\n",
    "- 코드의 순차적인 흐름과 함수 호출에 의해 프로그램이 진행\n",
    "- 실제로 실행되는 내용이 무엇이 무엇인가가 중요\n",
    "- 데이터를 재사용하거나 하는 것이 아닌 순서대로 실행, 결과물이 중요\n",
    "#### 객체 지향 프로그래밍\n",
    "데이터와 해당 데이터를 조작하는 메서드(함수)를 하나의 객체로 묶어 관리하는 방식의 프로그래밍 패러다임\n",
    "\n",
    "|절차 지향 | 객체 지향 |\n",
    "|---------|-----------|\n",
    "|데이터와 해당 데이터를 처리하는 함수(절차 분리)|데이터와 해당 데이터를 처리하는 메서드(메세지)를 하나의 객체(클래스)로 묶음|\n",
    "|함수(데이터) | 데이터(객체).메서드|\n",
    "|**함수 호출의 흐름**이 중요|**객체 간 상호작용**과 **메세지 전달**이 중요|\n",
    "\n",
    "#### 클래스(Class)\n",
    "파이썬에서 **타입**을 표현하는 방법\n",
    "- **객체를 생성**하기 위한 설계도(blueprint)\n",
    "- 데이터와 기능을 함께 묶는 방법을 제공\n",
    "\n",
    "#### 객체(Object)\n",
    "클래스에서 정의한 것을 토대로 메모리에 할당된 것\n",
    "'**속성**'과 '**행동**'으로 구성된 모든 것\n",
    "- 클래스로 만든 객체를 **인스턴스**라고도 함\n",
    "  \n",
    "#### 인스턴스와 메서드\n",
    "\n",
    "- 'hello'.upper()\n",
    "- 문자열.대문자로()\n",
    "- 객체.행동()\n",
    "- 인스턴스.메서드()\n",
    "  \n",
    "------------------\n",
    "\n",
    "- [1, 2, 3].sort()\n",
    "- 리스트.정렬해()\n",
    "- 객체.행동()\n",
    "- 인스턴스.메서드()\n",
    "  \n",
    "#### 하나의 객체(object)는 특정 타입의 인스턴스(instance)이다.\n",
    "#### 객체의 특징\n",
    "- 타입(type) : 어떤 연산자와 조작이 가능한가\n",
    "- 속성(attribute) : 어떤 상태(데이터)를 가지는가\n",
    "- 조작법(method) : 어떤 행위(함수)를 할 수 있는가\n",
    "**객체(Object) = 속성(Attribute) + 기능(Method)**"
   ]
  },
  {
   "cell_type": "code",
   "execution_count": 10,
   "metadata": {},
   "outputs": [
    {
     "name": "stdout",
     "output_type": "stream",
     "text": [
      "IU가 노래합니다.\n",
      "BTS가 노래합니다.\n",
      "red\n",
      "red\n"
     ]
    }
   ],
   "source": [
    "# 클래스 정의 \n",
    "class Person:\n",
    "    #속성(변수)\n",
    "    blood_color = 'red'\n",
    "    ##개발자가 직접 호출하지 않아도 알아서 호출 (__***__)\n",
    "    #메서드\n",
    "    def __init__(self, name): ##self는 자기자신, 지금 name만 인자\n",
    "        self.name = name      \n",
    "    \n",
    "    def singing(self):\n",
    "        return f'{self.name}가 노래합니다.'\n",
    "    \n",
    "#인스턴스 생성\n",
    "singer1 = Person('IU')\n",
    "singer2 = Person('BTS')\n",
    "#메서드 호출\n",
    "print(singer1.singing())\n",
    "print(singer2.singing())\n",
    "\n",
    "#속성(변수)접근\n",
    "print(singer1.blood_color)\n",
    "print(singer2.blood_color)"
   ]
  },
  {
   "cell_type": "markdown",
   "metadata": {},
   "source": [
    "## 클래스 기본 활용\n",
    "- 생성자 함수\n",
    "  - 객체를 생성할 때 자동으로 호출되는 특별한 메서드\n",
    "  - __init__이라는 이름의 메서드로 정의되며, 객체의 초기화를 담당\n",
    "  - 생성자 함수를 통해 인스턴스 생성, 필요한 초기값을 설정\n",
    "\n"
   ]
  },
  {
   "cell_type": "code",
   "execution_count": 11,
   "metadata": {},
   "outputs": [
    {
     "name": "stdout",
     "output_type": "stream",
     "text": [
      "unknown\n",
      "unknown\n",
      "Kim\n"
     ]
    }
   ],
   "source": [
    "#Person 정의\n",
    "class Person:\n",
    "    name = 'unknown'\n",
    "    \n",
    "    #인스턴스 메서드\n",
    "    def talk(self):\n",
    "        print(self.name)\n",
    "\n",
    "p1 = Person()\n",
    "p1.talk()  #unknown\n",
    "\n",
    "#p2 인스턴스 변수 설정 전/후\n",
    "\n",
    "p2 = Person()\n",
    "p2.talk() #unknown //unknown이 부여된 것이 아닌 변수가 없어\n",
    "          #class를 찾아올라간것\n",
    "\n",
    "p2.name = 'Kim'\n",
    "p2.talk() #Kim"
   ]
  },
  {
   "cell_type": "markdown",
   "metadata": {},
   "source": [
    "#### 독립적인 이름공간을 가지는 이점\n",
    "- 각 인스턴스는 독립적인 메모리 공간을 가짐, 클래스와 다른 인스턴스 간에는 서로의 데이터나 상태에 직접적인 접근이 불가\n",
    "- 객체 지향 프로그래밍의 중요한 특성 중 하나, 클래스와 인스턴스를 모듈화하고 각각의 객체가 독립적으로 동작하도록 보장\n",
    "- 이를 통해 클래스와 인스턴스는 다른 객체들과의 상호작용에서 서로 충돌이나 영향 x, 독립적으로 동작\n",
    "- **코드의 가독성, 유지보수성, 재사용성을 높이는데 도움을 줌**"
   ]
  },
  {
   "cell_type": "code",
   "execution_count": 12,
   "metadata": {},
   "outputs": [
    {
     "name": "stdout",
     "output_type": "stream",
     "text": [
      "2\n"
     ]
    }
   ],
   "source": [
    "# 인스턴스가 생성될 때마다 클래스 변수가 늘어나도록 설정 가능\n",
    "class Person:\n",
    "    count = 0\n",
    "    def __init__(self, name): \n",
    "        self.name = name\n",
    "        Person.count += 1\n",
    "\n",
    "person1 = Person('IU')\n",
    "person2 = Person('BTS')\n",
    "\n",
    "print(Person.count)"
   ]
  },
  {
   "cell_type": "code",
   "execution_count": 13,
   "metadata": {},
   "outputs": [
    {
     "name": "stdout",
     "output_type": "stream",
     "text": [
      "3.14\n",
      "3.14\n",
      "3.14\n",
      "5\n",
      "5\n",
      "5\n",
      "5\n",
      "5\n",
      "10\n"
     ]
    }
   ],
   "source": [
    "# 클래스 변수를 변경할 때는 항상 클래스.클래스변수 형식으로 변경\n",
    "class Circle():\n",
    "    pi = 3.14\n",
    "\n",
    "    def __init__(self, r):\n",
    "        self.r = r\n",
    "\n",
    "c1 = Circle(5)\n",
    "c2 = Circle(10)\n",
    "\n",
    "print(Circle.pi)\n",
    "print(c1.pi)\n",
    "print(c2.pi)\n",
    "\n",
    "Circle.pi = 5 #클래스 변수 변경\n",
    "print(Circle.pi)\n",
    "print(c1.pi)\n",
    "print(c2.pi)\n",
    "\n",
    "c2.pi = 10 # 인스턴스 변수 변경/c2의 변수만 바뀜\n",
    "print(Circle.pi)\n",
    "print(c1.pi)\n",
    "print(c2.pi)\n"
   ]
  },
  {
   "cell_type": "markdown",
   "metadata": {},
   "source": [
    "#### 인스턴스 메서드(instatce method)\n",
    "클래스로부터 생성된 각 인스턴스에서 호출할 수 있는 메서드\n",
    "- 인스턴스의 상태를 조작하거나 동작 수행\n",
    "- ex) list.append()\n",
    "\n",
    "#### 인스턴스 메서드 구조\n",
    "- 클래스 내부에 정의되는 메서드의 기본\n",
    "- 반드시 첫 번째 매개변수로 **인스턴스 자신(self)** 을 전달받음\n"
   ]
  },
  {
   "cell_type": "code",
   "execution_count": 17,
   "metadata": {},
   "outputs": [
    {
     "name": "stdout",
     "output_type": "stream",
     "text": [
      "ABC\n"
     ]
    },
    {
     "data": {
      "text/plain": [
       "'ABC'"
      ]
     },
     "execution_count": 17,
     "metadata": {},
     "output_type": "execute_result"
    }
   ],
   "source": [
    "str1 = 'abc'\n",
    "# 클래스.메서드(인스턴스 자기자신)/실제 파이썬 내부동작\n",
    "str.upper(str1)\n",
    "# 인스턴스.메서드() / 축약형/ 객체 스스로 메서드 호출, 코드를 동작하는 객체 지향적 표현\n",
    "str1.upper()"
   ]
  },
  {
   "cell_type": "markdown",
   "metadata": {},
   "source": [
    "#### 클래스 메서드\n",
    "클래스가 호출하는 메서드\n",
    "- 클래스 변수를 조작하거나 클래스 레벨의 동작을 수행\n",
    "#### 클래스 메서드 구조\n",
    "- @classmethod 데코레이터를 사용하여 정의\n",
    "- 호출 시, 첫번째 인자로 호출하는 클래스(cls)가 전달됨\n",
    "\n",
    "\n",
    "#### 스태틱 메서드 구조\n",
    "- @staticmethod 데코레이터를 사용하여 정의"
   ]
  }
 ],
 "metadata": {
  "kernelspec": {
   "display_name": "Python 3",
   "language": "python",
   "name": "python3"
  },
  "language_info": {
   "codemirror_mode": {
    "name": "ipython",
    "version": 3
   },
   "file_extension": ".py",
   "mimetype": "text/x-python",
   "name": "python",
   "nbconvert_exporter": "python",
   "pygments_lexer": "ipython3",
   "version": "3.9.13"
  },
  "orig_nbformat": 4
 },
 "nbformat": 4,
 "nbformat_minor": 2
}
