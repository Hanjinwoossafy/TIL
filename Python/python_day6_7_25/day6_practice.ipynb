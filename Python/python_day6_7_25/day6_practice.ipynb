{
 "cells": [
  {
   "cell_type": "markdown",
   "metadata": {},
   "source": [
    "세트 가변형 비시퀀스 -> 중복을 허용하지 않는다 -> 집합과 같은 특징"
   ]
  },
  {
   "cell_type": "code",
   "execution_count": 46,
   "metadata": {},
   "outputs": [
    {
     "name": "stdout",
     "output_type": "stream",
     "text": [
      "{1, 2, 3, 4}\n",
      "{1, 2, 3, 4, 5, 6, 7}\n",
      "{1, 2, 3, 4, 5, 6}\n",
      "{1, 2, 3, 4, 5, 6}\n",
      "{1, 2, 3}\n",
      "{1, 2, 3}\n",
      "{1, 2, 3}\n",
      "{4, 5, 6}\n",
      "{1, 2, 3}\n",
      "{1, 2, 3, 4, 5, 6, 7, 8, 9}\n"
     ]
    }
   ],
   "source": [
    "list1 = [1, 2, 3]\n",
    "list2 = [4, 5, 6, 7, 8, 9]\n",
    "set1 = set(list1)\n",
    "set2 = set(list2)\n",
    "\n",
    "#1. set1에 4추가\n",
    "set1.add(4)\n",
    "print(set1)\n",
    "\n",
    "#2. set1에 [5, 6, 7]추가\n",
    "set1.update([5, 6, 7])\n",
    "print(set1)\n",
    "#3. set1에서 7제거(2가지 방법)\n",
    "set1.remove(7)\n",
    "print(set1)\n",
    "set1 = {1, 2, 3, 4, 5, 6, 7}\n",
    "set1.discard(7)\n",
    "print(set1)\n",
    "#4. set1 차집합 set2 출력(2가지 방법)\n",
    "print(set1 - set2)\n",
    "print(set1.difference(set2))\n",
    "#5. set1 교집합 set2 출력(2가지 방법)\n",
    "print(set1 - set2)\n",
    "print(set1.intersection(set2))\n",
    "#6. set1 합집합 set2 출력(2가지 방법)\n",
    "print(set1 - set2)\n",
    "print(set1.union(set2))"
   ]
  },
  {
   "cell_type": "code",
   "execution_count": 47,
   "metadata": {},
   "outputs": [
    {
     "name": "stdout",
     "output_type": "stream",
     "text": [
      "1409957062960\n",
      "1409957062992\n",
      "1409957063024\n",
      "1409957063056\n",
      "1409962774384\n",
      "1\n",
      "2\n",
      "3\n",
      "{4, 5, 6, 'a'}\n"
     ]
    }
   ],
   "source": [
    "#set1.pop(): 주소값이 작은 것부터 제거\n",
    "set1 = {1, 2, 3, 'a', 4, 5, 6}\n",
    "print(id(1))\n",
    "print(id(2))\n",
    "print(id(3))\n",
    "print(id(4))\n",
    "print(id('a'))\n",
    "print(set1.pop())\n",
    "print(set1.pop())\n",
    "print(set1.pop())\n",
    "print(set1)"
   ]
  },
  {
   "cell_type": "markdown",
   "metadata": {},
   "source": [
    "#### dictionary 메서드\n",
    "영한사전 dict 실습\n",
    "| 단어 | 뜻 |\n",
    "|----------|---------|\n",
    "| plus | 더하기 장점|\n",
    "| minus| 빼기 적자|\n",
    "| multiply | 곱하기 다양하게|\n",
    "| division |나누기 분열|"
   ]
  },
  {
   "cell_type": "code",
   "execution_count": 48,
   "metadata": {},
   "outputs": [
    {
     "name": "stdout",
     "output_type": "stream",
     "text": [
      "['더하기', '장점']\n",
      "['더하기', '장점']\n",
      "['더하기', '장점']\n",
      "dict_keys(['plus', 'minus', 'multiply', 'division'])\n",
      "plus\n",
      "minus\n",
      "multiply\n",
      "division\n",
      "['제곱', '사각형']\n",
      "{'plus': ['더하기', '장점'], 'minus': ['빼기', '적자'], 'multiply': ['곱하기', '다양하게'], 'division': ['나누기', '분열'], 'square': ['제곱', '사각형']}\n",
      "{'plus': ['더하기', '장점'], 'minus': ['빼기', '적자'], 'multiply': ['곱하기', '다양하게'], 'division': ['나누기', '분열'], 'square': ['제곱', '사각형']}\n",
      "dict_items([('plus', ['더하기', '장점']), ('minus', ['빼기', '적자']), ('multiply', ['곱하기', '다양하게']), ('division', ['나누기', '분열']), ('square', ['제곱', '사각형'])])\n",
      "{'plus': ['더하기', '장점'], 'minus': ['빼기', '적자'], 'multiply': ['곱하기', '다양하게'], 'division': ['나누기', '분열']}\n",
      "{'minus': ['빼기', '적자'], 'multiply': ['곱하기', '다양하게'], 'division': ['나누기', '분열']}\n"
     ]
    }
   ],
   "source": [
    "ek_dict = {\n",
    "    'plus' : ['더하기', '장점'],\n",
    "    'minus' : ['빼기', '적자'], \n",
    "    'multiply' : ['곱하기', '다양하게'],\n",
    "    'division' : ['나누기', '분열']\n",
    "}\n",
    "#1. 영어 단어를 입력하면 단어의 뜻을 보여주는 프로그램(2가지 방법)\n",
    "print(ek_dict['plus'])\n",
    "print(ek_dict.get('plus'))\n",
    "print(ek_dict.setdefault('plus'))\n",
    "\n",
    "#2. 영한사전에서 단어들의 목록을 출력\n",
    "ek_keys = ek_dict.keys()\n",
    "print(ek_keys)\n",
    "for ek_key in ek_keys:\n",
    "    print(ek_key) \n",
    "\n",
    "#3. 다음 단어와 뜻을 추가하고, 사전에 있는 모든 단어와 뜻을 출력(3가지 방법)\n",
    "# square : 제곱, 사각형\n",
    "#1)\n",
    "print(ek_dict.setdefault('square' , ['제곱', '사각형'])) #['제곱', '사각형']\n",
    "print(ek_dict)\n",
    "#2)\n",
    "ek_dict.update(square = ['제곱', '사각형']) #None이기 때문에 새로 추가\n",
    "print(ek_dict)\n",
    "#3)\n",
    "# ek_dict['square'] = ['제곱', '사각형']\n",
    "# print(ek_dict)\n",
    "### 단어 뜻 출력\n",
    "print(ek_dict.items())\n",
    "\n",
    "#4. 입력받은 단어와 뜻을 삭제하는 프로그램 작성(2가지 방법)\n",
    "ek_dict.pop('square')\n",
    "print(ek_dict)\n",
    "del ek_dict['plus']\n",
    "print(ek_dict)"
   ]
  },
  {
   "cell_type": "markdown",
   "metadata": {},
   "source": [
    "출력 결과가 {'A' : 3, 'B': 3, 'O' : 3, 'AB' : 3}이 나오게\n",
    "+ Counter 메서드를 사용하여 실습"
   ]
  },
  {
   "cell_type": "markdown",
   "metadata": {},
   "source": [
    "다른 3가지 방법은 day6에 존재\n",
    "Counter(), most_common(), elements() 메서드 유용"
   ]
  },
  {
   "cell_type": "code",
   "execution_count": 49,
   "metadata": {},
   "outputs": [
    {
     "name": "stdout",
     "output_type": "stream",
     "text": [
      "Counter({'A': 3, 'B': 3, 'AB': 2, 'O': 1})\n",
      "[('A', 3), ('B', 3)]\n",
      "['A', 'A', 'A', 'B', 'B', 'B', 'AB', 'AB', 'O']\n"
     ]
    }
   ],
   "source": [
    "# 내장 모듈을 사용해도 똑같은 결과 가능\n",
    "blood_types = ['A', 'B', 'A',  'AB',  'A', 'B', 'O', 'B', 'AB']\n",
    "\n",
    "import collections\n",
    "\n",
    "result = collections.Counter(blood_types)\n",
    "\n",
    "print(result)\n",
    "print(result.most_common(2))\n",
    "print(list(result.elements()))"
   ]
  },
  {
   "cell_type": "markdown",
   "metadata": {},
   "source": [
    "할당, 얕은 복사, 깊은 복사\n",
    "불변 데이터 원본 변경x, 가변 데이터"
   ]
  },
  {
   "cell_type": "markdown",
   "metadata": {},
   "source": [
    "1. 할당 : 원본 데이터 변경 o"
   ]
  },
  {
   "cell_type": "code",
   "execution_count": 50,
   "metadata": {},
   "outputs": [
    {
     "name": "stdout",
     "output_type": "stream",
     "text": [
      "1410061079168 1410061079168\n",
      "[5, 2, 3, 4] [5, 2, 3, 4]\n"
     ]
    }
   ],
   "source": [
    "list1 = [1, 2, 3, 4]\n",
    "list2 = list1\n",
    "list2[0] = 5\n",
    "\n",
    "print(id(list1), id(list2))\n",
    "print(list1, list2)"
   ]
  },
  {
   "cell_type": "markdown",
   "metadata": {},
   "source": [
    "2. 얕은 복사(슬라이싱, copy()) : 객체안에 객체가 있는 경우 원본 데이터가 변경 "
   ]
  },
  {
   "cell_type": "code",
   "execution_count": 74,
   "metadata": {},
   "outputs": [
    {
     "name": "stdout",
     "output_type": "stream",
     "text": [
      "1410061908864 1410061731840\n",
      "1410061951040 1410061951040\n",
      "[1, 2, [5, 4]] [5, 2, [5, 4]]\n"
     ]
    }
   ],
   "source": [
    "list1 = [1, 2, [3, 4]]\n",
    "\n",
    "list2 = list1.copy()\n",
    "list2[0] = 5\n",
    "list2[2][0] = 5\n",
    "\n",
    "print(id(list1), id(list2))\n",
    "print(id(list1[2]), id(list2[2]))\n",
    "print(list1, list2)"
   ]
  },
  {
   "cell_type": "markdown",
   "metadata": {},
   "source": [
    "3. 깊은 복사 : 원본 데이터 변경 X"
   ]
  },
  {
   "cell_type": "code",
   "execution_count": 52,
   "metadata": {},
   "outputs": [
    {
     "name": "stdout",
     "output_type": "stream",
     "text": [
      "1410061079680 1410061129088\n",
      "1410061081472 1410061400576\n",
      "[1, 2, [3, 4]] [5, 2, [5, 4]]\n"
     ]
    }
   ],
   "source": [
    "import copy\n",
    "\n",
    "list1 = [1, 2, [3, 4]]\n",
    "\n",
    "list2 = copy.deepcopy(list1)\n",
    "list2[0] = 5\n",
    "list2[2][0] = 5\n",
    "\n",
    "print(id(list1), id(list2))\n",
    "print(id(list1[2]), id(list2[2]))\n",
    "print(list1, list2)"
   ]
  }
 ],
 "metadata": {
  "kernelspec": {
   "display_name": "Python 3",
   "language": "python",
   "name": "python3"
  },
  "language_info": {
   "codemirror_mode": {
    "name": "ipython",
    "version": 3
   },
   "file_extension": ".py",
   "mimetype": "text/x-python",
   "name": "python",
   "nbconvert_exporter": "python",
   "pygments_lexer": "ipython3",
   "version": "3.9.13"
  },
  "orig_nbformat": 4
 },
 "nbformat": 4,
 "nbformat_minor": 2
}
